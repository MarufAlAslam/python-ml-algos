{
 "cells": [
  {
   "cell_type": "code",
   "execution_count": 1,
   "id": "35a0491a",
   "metadata": {},
   "outputs": [],
   "source": [
    "import pandas as pd\n",
    "import numpy as np\n",
    "from matplotlib import pyplot as plt\n",
    "import warnings\n",
    "warnings.filterwarnings('ignore')"
   ]
  },
  {
   "cell_type": "code",
   "execution_count": 2,
   "id": "a977d579",
   "metadata": {},
   "outputs": [
    {
     "data": {
      "text/html": [
       "<div>\n",
       "<style scoped>\n",
       "    .dataframe tbody tr th:only-of-type {\n",
       "        vertical-align: middle;\n",
       "    }\n",
       "\n",
       "    .dataframe tbody tr th {\n",
       "        vertical-align: top;\n",
       "    }\n",
       "\n",
       "    .dataframe thead th {\n",
       "        text-align: right;\n",
       "    }\n",
       "</style>\n",
       "<table border=\"1\" class=\"dataframe\">\n",
       "  <thead>\n",
       "    <tr style=\"text-align: right;\">\n",
       "      <th></th>\n",
       "      <th>area</th>\n",
       "      <th>rent</th>\n",
       "    </tr>\n",
       "  </thead>\n",
       "  <tbody>\n",
       "    <tr>\n",
       "      <th>0</th>\n",
       "      <td>2000</td>\n",
       "      <td>31500</td>\n",
       "    </tr>\n",
       "    <tr>\n",
       "      <th>1</th>\n",
       "      <td>2100</td>\n",
       "      <td>35000</td>\n",
       "    </tr>\n",
       "    <tr>\n",
       "      <th>2</th>\n",
       "      <td>2500</td>\n",
       "      <td>41050</td>\n",
       "    </tr>\n",
       "    <tr>\n",
       "      <th>3</th>\n",
       "      <td>2250</td>\n",
       "      <td>36100</td>\n",
       "    </tr>\n",
       "    <tr>\n",
       "      <th>4</th>\n",
       "      <td>3000</td>\n",
       "      <td>52100</td>\n",
       "    </tr>\n",
       "  </tbody>\n",
       "</table>\n",
       "</div>"
      ],
      "text/plain": [
       "   area   rent\n",
       "0  2000  31500\n",
       "1  2100  35000\n",
       "2  2500  41050\n",
       "3  2250  36100\n",
       "4  3000  52100"
      ]
     },
     "execution_count": 2,
     "metadata": {},
     "output_type": "execute_result"
    }
   ],
   "source": [
    "df = pd.read_csv('Dhaka Rent.csv', sep=\";\")\n",
    "df.head(5)"
   ]
  },
  {
   "cell_type": "code",
   "execution_count": 3,
   "id": "44032757",
   "metadata": {},
   "outputs": [],
   "source": [
    "x = df['area']\n",
    "y = df['rent']"
   ]
  },
  {
   "cell_type": "code",
   "execution_count": 4,
   "id": "9c827ad8",
   "metadata": {},
   "outputs": [],
   "source": [
    "mean_x = np.mean(x)\n",
    "mean_y = np.mean(y)"
   ]
  },
  {
   "cell_type": "code",
   "execution_count": 5,
   "id": "20bd1304",
   "metadata": {},
   "outputs": [
    {
     "data": {
      "text/plain": [
       "2289.0"
      ]
     },
     "execution_count": 5,
     "metadata": {},
     "output_type": "execute_result"
    }
   ],
   "source": [
    "mean_x"
   ]
  },
  {
   "cell_type": "code",
   "execution_count": 6,
   "id": "15792410",
   "metadata": {},
   "outputs": [
    {
     "data": {
      "text/plain": [
       "37269.166666666664"
      ]
     },
     "execution_count": 6,
     "metadata": {},
     "output_type": "execute_result"
    }
   ],
   "source": [
    "mean_y"
   ]
  },
  {
   "cell_type": "code",
   "execution_count": 7,
   "id": "50a56483",
   "metadata": {},
   "outputs": [],
   "source": [
    "dev_x = x - mean_x\n",
    "dev_y = y - mean_y"
   ]
  },
  {
   "cell_type": "code",
   "execution_count": 8,
   "id": "6fb3ee5e",
   "metadata": {},
   "outputs": [
    {
     "data": {
      "text/plain": [
       "0     -289.0\n",
       "1     -189.0\n",
       "2      211.0\n",
       "3      -39.0\n",
       "4      711.0\n",
       "5     -389.0\n",
       "6     -789.0\n",
       "7     -439.0\n",
       "8      411.0\n",
       "9     -189.0\n",
       "10    -139.0\n",
       "11    -189.0\n",
       "12    -189.0\n",
       "13     221.0\n",
       "14     -39.0\n",
       "15     811.0\n",
       "16    -489.0\n",
       "17    -739.0\n",
       "18    -489.0\n",
       "19     411.0\n",
       "20    -179.0\n",
       "21    -189.0\n",
       "22    1211.0\n",
       "23   -1089.0\n",
       "24     511.0\n",
       "25     811.0\n",
       "26     461.0\n",
       "27    -489.0\n",
       "28     -89.0\n",
       "29     811.0\n",
       "30    -189.0\n",
       "31    -189.0\n",
       "32     211.0\n",
       "33     -39.0\n",
       "34     711.0\n",
       "35    -389.0\n",
       "36    -789.0\n",
       "37    -439.0\n",
       "38     411.0\n",
       "39    -189.0\n",
       "40    -139.0\n",
       "41    -189.0\n",
       "42    -189.0\n",
       "43     221.0\n",
       "44     -39.0\n",
       "45     811.0\n",
       "46    -489.0\n",
       "47    -739.0\n",
       "48    -489.0\n",
       "49     411.0\n",
       "50    -179.0\n",
       "51    -189.0\n",
       "52    1211.0\n",
       "53   -1089.0\n",
       "54     511.0\n",
       "55     811.0\n",
       "56     461.0\n",
       "57    -489.0\n",
       "58     -89.0\n",
       "59     811.0\n",
       "Name: area, dtype: float64"
      ]
     },
     "execution_count": 8,
     "metadata": {},
     "output_type": "execute_result"
    }
   ],
   "source": [
    "dev_x"
   ]
  },
  {
   "cell_type": "code",
   "execution_count": 9,
   "id": "e69bc699",
   "metadata": {},
   "outputs": [
    {
     "data": {
      "text/plain": [
       "0     -5769.166667\n",
       "1     -2269.166667\n",
       "2      3780.833333\n",
       "3     -1169.166667\n",
       "4     14830.833333\n",
       "5     -4769.166667\n",
       "6    -17269.166667\n",
       "7    -12769.166667\n",
       "8     10730.833333\n",
       "9     -6269.166667\n",
       "10    -2769.166667\n",
       "11    -5269.166667\n",
       "12    -2769.166667\n",
       "13     2780.833333\n",
       "14    -3169.166667\n",
       "15    14230.833333\n",
       "16    -6769.166667\n",
       "17   -16269.166667\n",
       "18   -12269.166667\n",
       "19     9730.833333\n",
       "20    -5769.166667\n",
       "21    -3769.166667\n",
       "22    32730.833333\n",
       "23   -17269.166667\n",
       "24    12730.833333\n",
       "25    15730.833333\n",
       "26    10730.833333\n",
       "27   -12269.166667\n",
       "28    -5809.166667\n",
       "29    14130.833333\n",
       "30    -3769.166667\n",
       "31    -2259.166667\n",
       "32     3830.833333\n",
       "33    -2169.166667\n",
       "34    14930.833333\n",
       "35    -4969.166667\n",
       "36   -17069.166667\n",
       "37   -13269.166667\n",
       "38    10230.833333\n",
       "39    -5769.166667\n",
       "40    -2869.166667\n",
       "41    -5249.166667\n",
       "42    -2569.166667\n",
       "43     2730.833333\n",
       "44    -2269.166667\n",
       "45    13730.833333\n",
       "46    -7269.166667\n",
       "47   -15769.166667\n",
       "48   -11769.166667\n",
       "49    10230.833333\n",
       "50    -6269.166667\n",
       "51    -4269.166667\n",
       "52    33230.833333\n",
       "53   -17169.166667\n",
       "54    13730.833333\n",
       "55    16730.833333\n",
       "56    11230.833333\n",
       "57   -12169.166667\n",
       "58    -5709.166667\n",
       "59    14330.833333\n",
       "Name: rent, dtype: float64"
      ]
     },
     "execution_count": 9,
     "metadata": {},
     "output_type": "execute_result"
    }
   ],
   "source": [
    "dev_y"
   ]
  },
  {
   "cell_type": "code",
   "execution_count": 10,
   "id": "c5678fdd",
   "metadata": {},
   "outputs": [],
   "source": [
    "m = np.sum(dev_x * dev_y) / np.sum(dev_x**2)"
   ]
  },
  {
   "cell_type": "code",
   "execution_count": 11,
   "id": "73a61a46",
   "metadata": {},
   "outputs": [
    {
     "data": {
      "text/plain": [
       "21.292661473611954"
      ]
     },
     "execution_count": 11,
     "metadata": {},
     "output_type": "execute_result"
    }
   ],
   "source": [
    "m"
   ]
  },
  {
   "cell_type": "code",
   "execution_count": 13,
   "id": "a1054efc",
   "metadata": {},
   "outputs": [
    {
     "data": {
      "text/plain": [
       "-11469.7354464311"
      ]
     },
     "execution_count": 13,
     "metadata": {},
     "output_type": "execute_result"
    }
   ],
   "source": [
    "# y = mx + c\n",
    "# c = y - mx\n",
    "\n",
    "c = mean_y - (m * mean_x)\n",
    "c"
   ]
  },
  {
   "cell_type": "code",
   "execution_count": 14,
   "id": "933db936",
   "metadata": {},
   "outputs": [
    {
     "data": {
      "text/plain": [
       "31115.58750079281"
      ]
     },
     "execution_count": 14,
     "metadata": {},
     "output_type": "execute_result"
    }
   ],
   "source": [
    "pred_2000 = m * 2000 + c\n",
    "pred_2000"
   ]
  },
  {
   "cell_type": "markdown",
   "id": "e815f02a",
   "metadata": {},
   "source": [
    "# Plot"
   ]
  },
  {
   "cell_type": "code",
   "execution_count": 19,
   "id": "c031b1b0",
   "metadata": {},
   "outputs": [
    {
     "data": {
      "text/plain": [
       "Text(0.5, 1.0, 'House Rent in Dhaka')"
      ]
     },
     "execution_count": 19,
     "metadata": {},
     "output_type": "execute_result"
    },
    {
     "data": {
      "image/png": "[encoded data removed]",
      "text/plain": [
       "<Figure size 640x480 with 1 Axes>"
      ]
     },
     "metadata": {},
     "output_type": "display_data"
    }
   ],
   "source": [
    "plt.scatter(x, y, color=\"green\")\n",
    "plt.xlabel(\"Area in Square\")\n",
    "plt.ylabel(\"Rent in Taka\")\n",
    "plt.title(\"House Rent in Dhaka\")"
   ]
  },
  {
   "cell_type": "code",
   "execution_count": 21,
   "id": "0c8e7497",
   "metadata": {},
   "outputs": [
    {
     "data": {
      "text/html": [
       "<div>\n",
       "<style scoped>\n",
       "    .dataframe tbody tr th:only-of-type {\n",
       "        vertical-align: middle;\n",
       "    }\n",
       "\n",
       "    .dataframe tbody tr th {\n",
       "        vertical-align: top;\n",
       "    }\n",
       "\n",
       "    .dataframe thead th {\n",
       "        text-align: right;\n",
       "    }\n",
       "</style>\n",
       "<table border=\"1\" class=\"dataframe\">\n",
       "  <thead>\n",
       "    <tr style=\"text-align: right;\">\n",
       "      <th></th>\n",
       "      <th>area</th>\n",
       "      <th>rent</th>\n",
       "    </tr>\n",
       "  </thead>\n",
       "  <tbody>\n",
       "    <tr>\n",
       "      <th>area</th>\n",
       "      <td>1.000000</td>\n",
       "      <td>0.974807</td>\n",
       "    </tr>\n",
       "    <tr>\n",
       "      <th>rent</th>\n",
       "      <td>0.974807</td>\n",
       "      <td>1.000000</td>\n",
       "    </tr>\n",
       "  </tbody>\n",
       "</table>\n",
       "</div>"
      ],
      "text/plain": [
       "          area      rent\n",
       "area  1.000000  0.974807\n",
       "rent  0.974807  1.000000"
      ]
     },
     "execution_count": 21,
     "metadata": {},
     "output_type": "execute_result"
    }
   ],
   "source": [
    "# correlations\n",
    "df.corr()"
   ]
  },
  {
   "cell_type": "code",
   "execution_count": 26,
   "id": "533f8b92",
   "metadata": {},
   "outputs": [],
   "source": [
    "from sklearn.linear_model import LinearRegression\n",
    "reg = LinearRegression()"
   ]
  },
  {
   "cell_type": "code",
   "execution_count": 29,
   "id": "f703f514",
   "metadata": {},
   "outputs": [
    {
     "data": {
      "text/html": [
       "<style>#sk-container-id-1 {color: black;background-color: white;}#sk-container-id-1 pre{padding: 0;}#sk-container-id-1 div.sk-toggleable {background-color: white;}#sk-container-id-1 label.sk-toggleable__label {cursor: pointer;display: block;width: 100%;margin-bottom: 0;padding: 0.3em;box-sizing: border-box;text-align: center;}#sk-container-id-1 label.sk-toggleable__label-arrow:before {content: \"▸\";float: left;margin-right: 0.25em;color: #696969;}#sk-container-id-1 label.sk-toggleable__label-arrow:hover:before {color: black;}#sk-container-id-1 div.sk-estimator:hover label.sk-toggleable__label-arrow:before {color: black;}#sk-container-id-1 div.sk-toggleable__content {max-height: 0;max-width: 0;overflow: hidden;text-align: left;background-color: #f0f8ff;}#sk-container-id-1 div.sk-toggleable__content pre {margin: 0.2em;color: black;border-radius: 0.25em;background-color: #f0f8ff;}#sk-container-id-1 input.sk-toggleable__control:checked~div.sk-toggleable__content {max-height: 200px;max-width: 100%;overflow: auto;}#sk-container-id-1 input.sk-toggleable__control:checked~label.sk-toggleable__label-arrow:before {content: \"▾\";}#sk-container-id-1 div.sk-estimator input.sk-toggleable__control:checked~label.sk-toggleable__label {background-color: #d4ebff;}#sk-container-id-1 div.sk-label input.sk-toggleable__control:checked~label.sk-toggleable__label {background-color: #d4ebff;}#sk-container-id-1 input.sk-hidden--visually {border: 0;clip: rect(1px 1px 1px 1px);clip: rect(1px, 1px, 1px, 1px);height: 1px;margin: -1px;overflow: hidden;padding: 0;position: absolute;width: 1px;}#sk-container-id-1 div.sk-estimator {font-family: monospace;background-color: #f0f8ff;border: 1px dotted black;border-radius: 0.25em;box-sizing: border-box;margin-bottom: 0.5em;}#sk-container-id-1 div.sk-estimator:hover {background-color: #d4ebff;}#sk-container-id-1 div.sk-parallel-item::after {content: \"\";width: 100%;border-bottom: 1px solid gray;flex-grow: 1;}#sk-container-id-1 div.sk-label:hover label.sk-toggleable__label {background-color: #d4ebff;}#sk-container-id-1 div.sk-serial::before {content: \"\";position: absolute;border-left: 1px solid gray;box-sizing: border-box;top: 0;bottom: 0;left: 50%;z-index: 0;}#sk-container-id-1 div.sk-serial {display: flex;flex-direction: column;align-items: center;background-color: white;padding-right: 0.2em;padding-left: 0.2em;position: relative;}#sk-container-id-1 div.sk-item {position: relative;z-index: 1;}#sk-container-id-1 div.sk-parallel {display: flex;align-items: stretch;justify-content: center;background-color: white;position: relative;}#sk-container-id-1 div.sk-item::before, #sk-container-id-1 div.sk-parallel-item::before {content: \"\";position: absolute;border-left: 1px solid gray;box-sizing: border-box;top: 0;bottom: 0;left: 50%;z-index: -1;}#sk-container-id-1 div.sk-parallel-item {display: flex;flex-direction: column;z-index: 1;position: relative;background-color: white;}#sk-container-id-1 div.sk-parallel-item:first-child::after {align-self: flex-end;width: 50%;}#sk-container-id-1 div.sk-parallel-item:last-child::after {align-self: flex-start;width: 50%;}#sk-container-id-1 div.sk-parallel-item:only-child::after {width: 0;}#sk-container-id-1 div.sk-dashed-wrapped {border: 1px dashed gray;margin: 0 0.4em 0.5em 0.4em;box-sizing: border-box;padding-bottom: 0.4em;background-color: white;}#sk-container-id-1 div.sk-label label {font-family: monospace;font-weight: bold;display: inline-block;line-height: 1.2em;}#sk-container-id-1 div.sk-label-container {text-align: center;}#sk-container-id-1 div.sk-container {/* jupyter's `normalize.less` sets `[hidden] { display: none; }` but bootstrap.min.css set `[hidden] { display: none !important; }` so we also need the `!important` here to be able to override the default hidden behavior on the sphinx rendered scikit-learn.org. See: https://github.com/scikit-learn/scikit-learn/issues/21755 */display: inline-block !important;position: relative;}#sk-container-id-1 div.sk-text-repr-fallback {display: none;}</style><div id=\"sk-container-id-1\" class=\"sk-top-container\"><div class=\"sk-text-repr-fallback\"><pre>LinearRegression()</pre><b>In a Jupyter environment, please rerun this cell to show the HTML representation or trust the notebook. <br />On GitHub, the HTML representation is unable to render, please try loading this page with nbviewer.org.</b></div><div class=\"sk-container\" hidden><div class=\"sk-item\"><div class=\"sk-estimator sk-toggleable\"><input class=\"sk-toggleable__control sk-hidden--visually\" id=\"sk-estimator-id-1\" type=\"checkbox\" checked><label for=\"sk-estimator-id-1\" class=\"sk-toggleable__label sk-toggleable__label-arrow\">LinearRegression</label><div class=\"sk-toggleable__content\"><pre>LinearRegression()</pre></div></div></div></div></div>"
      ],
      "text/plain": [
       "LinearRegression()"
      ]
     },
     "execution_count": 29,
     "metadata": {},
     "output_type": "execute_result"
    }
   ],
   "source": [
    "reg.fit(df[['area']], y) # x value will always be 2D"
   ]
  },
  {
   "cell_type": "code",
   "execution_count": 31,
   "id": "cecc3cfc",
   "metadata": {},
   "outputs": [
    {
     "data": {
      "text/plain": [
       "array([21.29266147])"
      ]
     },
     "execution_count": 31,
     "metadata": {},
     "output_type": "execute_result"
    }
   ],
   "source": [
    "reg.coef_"
   ]
  },
  {
   "cell_type": "code",
   "execution_count": 33,
   "id": "19cbf19f",
   "metadata": {},
   "outputs": [
    {
     "name": "stdout",
     "output_type": "stream",
     "text": [
      "-11469.7354464311 21.292661473611954\n"
     ]
    }
   ],
   "source": [
    "#old c, m\n",
    "print(c, m)"
   ]
  },
  {
   "cell_type": "code",
   "execution_count": 34,
   "id": "7c68f5d9",
   "metadata": {},
   "outputs": [
    {
     "name": "stdout",
     "output_type": "stream",
     "text": [
      "-11469.735446431136 [21.29266147]\n"
     ]
    }
   ],
   "source": [
    "#new c, m\n",
    "print(reg.intercept_, reg.coef_)"
   ]
  },
  {
   "cell_type": "code",
   "execution_count": 35,
   "id": "d69d7df3",
   "metadata": {},
   "outputs": [
    {
     "data": {
      "text/plain": [
       "array([31115.58750079])"
      ]
     },
     "execution_count": 35,
     "metadata": {},
     "output_type": "execute_result"
    }
   ],
   "source": [
    "# prediction using sklearn\n",
    "reg.predict([[2000]])"
   ]
  },
  {
   "cell_type": "code",
   "execution_count": 36,
   "id": "640fa1d7",
   "metadata": {},
   "outputs": [
    {
     "data": {
      "text/html": [
       "<div>\n",
       "<style scoped>\n",
       "    .dataframe tbody tr th:only-of-type {\n",
       "        vertical-align: middle;\n",
       "    }\n",
       "\n",
       "    .dataframe tbody tr th {\n",
       "        vertical-align: top;\n",
       "    }\n",
       "\n",
       "    .dataframe thead th {\n",
       "        text-align: right;\n",
       "    }\n",
       "</style>\n",
       "<table border=\"1\" class=\"dataframe\">\n",
       "  <thead>\n",
       "    <tr style=\"text-align: right;\">\n",
       "      <th></th>\n",
       "      <th>area</th>\n",
       "      <th>rent</th>\n",
       "      <th>predicted</th>\n",
       "    </tr>\n",
       "  </thead>\n",
       "  <tbody>\n",
       "    <tr>\n",
       "      <th>0</th>\n",
       "      <td>2000</td>\n",
       "      <td>31500</td>\n",
       "      <td>31115.587501</td>\n",
       "    </tr>\n",
       "    <tr>\n",
       "      <th>1</th>\n",
       "      <td>2100</td>\n",
       "      <td>35000</td>\n",
       "      <td>33244.853648</td>\n",
       "    </tr>\n",
       "    <tr>\n",
       "      <th>2</th>\n",
       "      <td>2500</td>\n",
       "      <td>41050</td>\n",
       "      <td>41761.918238</td>\n",
       "    </tr>\n",
       "    <tr>\n",
       "      <th>3</th>\n",
       "      <td>2250</td>\n",
       "      <td>36100</td>\n",
       "      <td>36438.752869</td>\n",
       "    </tr>\n",
       "    <tr>\n",
       "      <th>4</th>\n",
       "      <td>3000</td>\n",
       "      <td>52100</td>\n",
       "      <td>52408.248974</td>\n",
       "    </tr>\n",
       "  </tbody>\n",
       "</table>\n",
       "</div>"
      ],
      "text/plain": [
       "   area   rent     predicted\n",
       "0  2000  31500  31115.587501\n",
       "1  2100  35000  33244.853648\n",
       "2  2500  41050  41761.918238\n",
       "3  2250  36100  36438.752869\n",
       "4  3000  52100  52408.248974"
      ]
     },
     "execution_count": 36,
     "metadata": {},
     "output_type": "execute_result"
    }
   ],
   "source": [
    "# new column for predicted values\n",
    "df['predicted'] = reg.predict(df[['area']])\n",
    "df.head()"
   ]
  },
  {
   "cell_type": "code",
   "execution_count": 37,
   "id": "adc49bc9",
   "metadata": {},
   "outputs": [
    {
     "data": {
      "text/html": [
       "<div>\n",
       "<style scoped>\n",
       "    .dataframe tbody tr th:only-of-type {\n",
       "        vertical-align: middle;\n",
       "    }\n",
       "\n",
       "    .dataframe tbody tr th {\n",
       "        vertical-align: top;\n",
       "    }\n",
       "\n",
       "    .dataframe thead th {\n",
       "        text-align: right;\n",
       "    }\n",
       "</style>\n",
       "<table border=\"1\" class=\"dataframe\">\n",
       "  <thead>\n",
       "    <tr style=\"text-align: right;\">\n",
       "      <th></th>\n",
       "      <th>area</th>\n",
       "      <th>rent</th>\n",
       "      <th>predicted</th>\n",
       "      <th>residuals</th>\n",
       "    </tr>\n",
       "  </thead>\n",
       "  <tbody>\n",
       "    <tr>\n",
       "      <th>0</th>\n",
       "      <td>2000</td>\n",
       "      <td>31500</td>\n",
       "      <td>31115.587501</td>\n",
       "      <td>384.412499</td>\n",
       "    </tr>\n",
       "    <tr>\n",
       "      <th>1</th>\n",
       "      <td>2100</td>\n",
       "      <td>35000</td>\n",
       "      <td>33244.853648</td>\n",
       "      <td>1755.146352</td>\n",
       "    </tr>\n",
       "    <tr>\n",
       "      <th>2</th>\n",
       "      <td>2500</td>\n",
       "      <td>41050</td>\n",
       "      <td>41761.918238</td>\n",
       "      <td>-711.918238</td>\n",
       "    </tr>\n",
       "    <tr>\n",
       "      <th>3</th>\n",
       "      <td>2250</td>\n",
       "      <td>36100</td>\n",
       "      <td>36438.752869</td>\n",
       "      <td>-338.752869</td>\n",
       "    </tr>\n",
       "    <tr>\n",
       "      <th>4</th>\n",
       "      <td>3000</td>\n",
       "      <td>52100</td>\n",
       "      <td>52408.248974</td>\n",
       "      <td>-308.248974</td>\n",
       "    </tr>\n",
       "  </tbody>\n",
       "</table>\n",
       "</div>"
      ],
      "text/plain": [
       "   area   rent     predicted    residuals\n",
       "0  2000  31500  31115.587501   384.412499\n",
       "1  2100  35000  33244.853648  1755.146352\n",
       "2  2500  41050  41761.918238  -711.918238\n",
       "3  2250  36100  36438.752869  -338.752869\n",
       "4  3000  52100  52408.248974  -308.248974"
      ]
     },
     "execution_count": 37,
     "metadata": {},
     "output_type": "execute_result"
    }
   ],
   "source": [
    "# column for residuals\n",
    "df['residuals'] = df['rent'] - df['predicted']\n",
    "df.head()"
   ]
  },
  {
   "cell_type": "code",
   "execution_count": 45,
   "id": "0b38fa8f",
   "metadata": {},
   "outputs": [
    {
     "data": {
      "text/plain": [
       "6778077.2040955555"
      ]
     },
     "execution_count": 45,
     "metadata": {},
     "output_type": "execute_result"
    }
   ],
   "source": [
    "# calculate MAE, MSE, RMSE\n",
    "from sklearn.metrics import mean_squared_error, mean_absolute_error\n",
    "\n",
    "mse = mean_squared_error(df.predicted, df.rent)\n",
    "mse"
   ]
  },
  {
   "cell_type": "code",
   "execution_count": 46,
   "id": "f26426d1",
   "metadata": {},
   "outputs": [
    {
     "data": {
      "text/plain": [
       "2009.869509357628"
      ]
     },
     "execution_count": 46,
     "metadata": {},
     "output_type": "execute_result"
    }
   ],
   "source": [
    "mae = mean_absolute_error(df['predicted'], df['rent'])\n",
    "mae"
   ]
  },
  {
   "cell_type": "code",
   "execution_count": 47,
   "id": "8a731197",
   "metadata": {},
   "outputs": [
    {
     "data": {
      "text/plain": [
       "2603.4740644176877"
      ]
     },
     "execution_count": 47,
     "metadata": {},
     "output_type": "execute_result"
    }
   ],
   "source": [
    "rmse = np.sqrt(mse)\n",
    "rmse"
   ]
  },
  {
   "cell_type": "code",
   "execution_count": 53,
   "id": "0f19bef7",
   "metadata": {},
   "outputs": [
    {
     "data": {
      "text/plain": [
       "Text(0.5, 1.0, 'House Rent in Dhaka')"
      ]
     },
     "execution_count": 53,
     "metadata": {},
     "output_type": "execute_result"
    },
    {
     "data": {
      "image/png": "[encoded data removed]",
      "text/plain": [
       "<Figure size 640x480 with 1 Axes>"
      ]
     },
     "metadata": {},
     "output_type": "display_data"
    }
   ],
   "source": [
    "# plot best fit line\n",
    "plt.scatter(x, y, color=\"green\")\n",
    "\n",
    "# predicted\n",
    "plt.plot(x, df.predicted, color=\"black\") # best fit line\n",
    "plt.scatter(x, df.predicted, color=\"red\")\n",
    "\n",
    "#green = original\n",
    "#red = predicted\n",
    "\n",
    "\n",
    "plt.xlabel(\"Area in Square\")\n",
    "plt.ylabel(\"Rent in Taka\")\n",
    "plt.title(\"House Rent in Dhaka\")"
   ]
  },
  {
   "cell_type": "code",
   "execution_count": null,
   "id": "3e036b26",
   "metadata": {},
   "outputs": [],
   "source": []
  }
 ],
 "metadata": {
  "kernelspec": {
   "display_name": "Python 3 (ipykernel)",
   "language": "python",
   "name": "python3"
  },
  "language_info": {
   "codemirror_mode": {
    "name": "ipython",
    "version": 3
   },
   "file_extension": ".py",
   "mimetype": "text/x-python",
   "name": "python",
   "nbconvert_exporter": "python",
   "pygments_lexer": "ipython3",
   "version": "3.11.7"
  }
 },
 "nbformat": 4,
 "nbformat_minor": 5
}
